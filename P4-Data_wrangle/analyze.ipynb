{
 "cells": [
  {
   "cell_type": "markdown",
   "metadata": {},
   "source": [
    "# Analyse and visualize data"
   ]
  },
  {
   "cell_type": "code",
   "execution_count": 24,
   "metadata": {},
   "outputs": [],
   "source": [
    "import matplotlib\n",
    "import pandas as pd\n",
    "import numpy as np\n",
    "import matplotlib.pyplot as plt\n",
    "import seaborn as sns\n",
    "%matplotlib inline  \n",
    "matplotlib.style.use('ggplot')"
   ]
  },
  {
   "cell_type": "markdown",
   "metadata": {},
   "source": [
    "## Load clean data"
   ]
  },
  {
   "cell_type": "code",
   "execution_count": 25,
   "metadata": {},
   "outputs": [
    {
     "name": "stdout",
     "output_type": "stream",
     "text": [
      "<class 'pandas.core.frame.DataFrame'>\n",
      "RangeIndex: 1990 entries, 0 to 1989\n",
      "Data columns (total 24 columns):\n",
      "tweet_id                 1990 non-null int64\n",
      "in_reply_to_status_id    1990 non-null int64\n",
      "in_reply_to_user_id      1990 non-null int64\n",
      "timestamp                1990 non-null object\n",
      "source                   1990 non-null object\n",
      "text                     1990 non-null object\n",
      "expanded_urls            1990 non-null object\n",
      "rating_numerator         1990 non-null float64\n",
      "rating_denominator       1990 non-null int64\n",
      "name                     1388 non-null object\n",
      "favorite_count           1990 non-null int64\n",
      "retweet_count            1990 non-null int64\n",
      "jpg_url                  1990 non-null object\n",
      "img_num                  1990 non-null int64\n",
      "p1                       1990 non-null object\n",
      "p1_conf                  1990 non-null float64\n",
      "p1_dog                   1990 non-null bool\n",
      "p2                       1990 non-null object\n",
      "p2_conf                  1990 non-null float64\n",
      "p2_dog                   1990 non-null bool\n",
      "p3                       1990 non-null object\n",
      "p3_conf                  1990 non-null float64\n",
      "p3_dog                   1990 non-null bool\n",
      "life_stage               1990 non-null object\n",
      "dtypes: bool(3), float64(4), int64(7), object(10)\n",
      "memory usage: 332.4+ KB\n"
     ]
    }
   ],
   "source": [
    "df = pd.read_csv('twitter_archive_master.csv')\n",
    "df.info()"
   ]
  },
  {
   "cell_type": "code",
   "execution_count": 26,
   "metadata": {},
   "outputs": [],
   "source": [
    "# Reapply type transformation which have been lost from wrangling while saving to csv.\n",
    "#df['source'] = df['source'].astype('category')\n",
    "#df['life_stage'] = df['life_stage'].astype('category')\n",
    "\n",
    "# Index on time.\n",
    "#df.set_index('timestamp', inplace=True)\n",
    "#len(df)"
   ]
  },
  {
   "cell_type": "markdown",
   "metadata": {},
   "source": [
    "## Analyze\n",
    "### Insight\n",
    "#### Insight #1: Which dog breed get the highest rating"
   ]
  },
  {
   "cell_type": "code",
   "execution_count": 27,
   "metadata": {},
   "outputs": [
    {
     "data": {
      "text/plain": [
       "p1\n",
       "soft-coated_wheaten_terrier    25.454545\n",
       "West_Highland_white_terrier    15.642857\n",
       "Great_Pyrenees                 14.928571\n",
       "Name: rating_numerator, dtype: float64"
      ]
     },
     "execution_count": 27,
     "metadata": {},
     "output_type": "execute_result"
    }
   ],
   "source": [
    "df[df.p1_dog == True].groupby('p1').rating_numerator.mean().nlargest(3)"
   ]
  },
  {
   "cell_type": "markdown",
   "metadata": {},
   "source": [
    "**Terrier** and **Great Pyrenees** are the breeds getting the highest median rating."
   ]
  },
  {
   "cell_type": "code",
   "execution_count": 28,
   "metadata": {},
   "outputs": [
    {
     "data": {
      "text/html": [
       "<div>\n",
       "<style scoped>\n",
       "    .dataframe tbody tr th:only-of-type {\n",
       "        vertical-align: middle;\n",
       "    }\n",
       "\n",
       "    .dataframe tbody tr th {\n",
       "        vertical-align: top;\n",
       "    }\n",
       "\n",
       "    .dataframe thead th {\n",
       "        text-align: right;\n",
       "    }\n",
       "</style>\n",
       "<table border=\"1\" class=\"dataframe\">\n",
       "  <thead>\n",
       "    <tr style=\"text-align: right;\">\n",
       "      <th></th>\n",
       "      <th>p1</th>\n",
       "      <th>p1_conf</th>\n",
       "      <th>p1_dog</th>\n",
       "      <th>p2</th>\n",
       "      <th>p2_conf</th>\n",
       "      <th>p2_dog</th>\n",
       "      <th>p3</th>\n",
       "      <th>p3_conf</th>\n",
       "      <th>p3_dog</th>\n",
       "    </tr>\n",
       "  </thead>\n",
       "  <tbody>\n",
       "    <tr>\n",
       "      <th>1438</th>\n",
       "      <td>bow_tie</td>\n",
       "      <td>0.533941</td>\n",
       "      <td>False</td>\n",
       "      <td>sunglasses</td>\n",
       "      <td>0.080822</td>\n",
       "      <td>False</td>\n",
       "      <td>sunglass</td>\n",
       "      <td>0.050776</td>\n",
       "      <td>False</td>\n",
       "    </tr>\n",
       "    <tr>\n",
       "      <th>660</th>\n",
       "      <td>microphone</td>\n",
       "      <td>0.096063</td>\n",
       "      <td>False</td>\n",
       "      <td>accordion</td>\n",
       "      <td>0.094075</td>\n",
       "      <td>False</td>\n",
       "      <td>drumstick</td>\n",
       "      <td>0.061113</td>\n",
       "      <td>False</td>\n",
       "    </tr>\n",
       "    <tr>\n",
       "      <th>1612</th>\n",
       "      <td>lakeside</td>\n",
       "      <td>0.501767</td>\n",
       "      <td>False</td>\n",
       "      <td>breakwater</td>\n",
       "      <td>0.051351</td>\n",
       "      <td>False</td>\n",
       "      <td>king_penguin</td>\n",
       "      <td>0.049444</td>\n",
       "      <td>False</td>\n",
       "    </tr>\n",
       "    <tr>\n",
       "      <th>1508</th>\n",
       "      <td>Labrador_retriever</td>\n",
       "      <td>0.436377</td>\n",
       "      <td>True</td>\n",
       "      <td>Chihuahua</td>\n",
       "      <td>0.113956</td>\n",
       "      <td>True</td>\n",
       "      <td>American_Staffordshire_terrier</td>\n",
       "      <td>0.099689</td>\n",
       "      <td>True</td>\n",
       "    </tr>\n",
       "    <tr>\n",
       "      <th>865</th>\n",
       "      <td>teddy</td>\n",
       "      <td>0.662908</td>\n",
       "      <td>False</td>\n",
       "      <td>crib</td>\n",
       "      <td>0.031891</td>\n",
       "      <td>False</td>\n",
       "      <td>chow</td>\n",
       "      <td>0.025438</td>\n",
       "      <td>True</td>\n",
       "    </tr>\n",
       "  </tbody>\n",
       "</table>\n",
       "</div>"
      ],
      "text/plain": [
       "                      p1   p1_conf  p1_dog          p2   p2_conf  p2_dog  \\\n",
       "1438             bow_tie  0.533941   False  sunglasses  0.080822   False   \n",
       "660           microphone  0.096063   False   accordion  0.094075   False   \n",
       "1612            lakeside  0.501767   False  breakwater  0.051351   False   \n",
       "1508  Labrador_retriever  0.436377    True   Chihuahua  0.113956    True   \n",
       "865                teddy  0.662908   False        crib  0.031891   False   \n",
       "\n",
       "                                  p3   p3_conf  p3_dog  \n",
       "1438                        sunglass  0.050776   False  \n",
       "660                        drumstick  0.061113   False  \n",
       "1612                    king_penguin  0.049444   False  \n",
       "1508  American_Staffordshire_terrier  0.099689    True  \n",
       "865                             chow  0.025438    True  "
      ]
     },
     "execution_count": 28,
     "metadata": {},
     "output_type": "execute_result"
    }
   ],
   "source": [
    "df.sort_values(by = 'rating_numerator', ascending = False).iloc[:5,14:23]"
   ]
  },
  {
   "cell_type": "markdown",
   "metadata": {},
   "source": [
    "When giving a look to the five first dogs getting the highest rating, we see that all the three algotrithms failed to predict the race:\n",
    "* For the three first dog prediction result came out to be False)\n",
    "* For the fourth dog P1 predicts a labrador, P2 predicts a Chihuahua and P3 predicts American Stafforshire Terrier. But the confidence interval of P1 is better by a factor 4 so we would favor P1 in that case. Investigating more on outcome and confidence interval should help to decide which algorithm to trust."
   ]
  },
  {
   "cell_type": "markdown",
   "metadata": {},
   "source": [
    "#### Insight #2: Which dog stage get the highest rating"
   ]
  },
  {
   "cell_type": "code",
   "execution_count": 29,
   "metadata": {},
   "outputs": [
    {
     "data": {
      "text/plain": [
       "life_stage\n",
       "doggo,puppo      13.000000\n",
       "None             12.454578\n",
       "puppo            12.000000\n",
       "floofer          12.000000\n",
       "doggo            11.888889\n",
       "doggo,pupper     11.000000\n",
       "doggo,floofer    11.000000\n",
       "pupper           10.636798\n",
       "Name: rating_numerator, dtype: float64"
      ]
     },
     "execution_count": 29,
     "metadata": {},
     "output_type": "execute_result"
    }
   ],
   "source": [
    "df.groupby('life_stage').rating_numerator.mean().sort_values(ascending=False)"
   ]
  },
  {
   "cell_type": "markdown",
   "metadata": {},
   "source": [
    "**Doggo,Puppo** is getting the highest median rating."
   ]
  },
  {
   "cell_type": "markdown",
   "metadata": {},
   "source": [
    "#### Insight #3: what's the correlation between favorites, retweet and rating"
   ]
  },
  {
   "cell_type": "code",
   "execution_count": 30,
   "metadata": {},
   "outputs": [
    {
     "data": {
      "image/png": "[encoded data removed]",
      "text/plain": [
       "<matplotlib.figure.Figure at 0x7f41c4905f60>"
      ]
     },
     "metadata": {},
     "output_type": "display_data"
    }
   ],
   "source": [
    "f,ax = plt.subplots(figsize=(18, 18));\n",
    "corr = df[['rating_numerator','favorite_count','retweet_count']].corr()\n",
    "sns.heatmap(corr, \n",
    "            xticklabels=corr.columns.values,\n",
    "            yticklabels=corr.columns.values,\n",
    "            annot=True)\n",
    "\n",
    "# Save the figure for the reports\n",
    "plt.savefig('favorite_vs_retweet_vs_rating.jpg')\n"
   ]
  },
  {
   "cell_type": "markdown",
   "metadata": {},
   "source": [
    "#### Observation\n",
    "\n",
    "* There's a strong positive correlation between favorite and retweet\n",
    "* Rating is not influence by any other 'count' variable"
   ]
  },
  {
   "cell_type": "markdown",
   "metadata": {},
   "source": [
    "### Visualization"
   ]
  },
  {
   "cell_type": "markdown",
   "metadata": {},
   "source": [
    "#### Visualization #1: Rating per dog stage."
   ]
  },
  {
   "cell_type": "code",
   "execution_count": 31,
   "metadata": {},
   "outputs": [
    {
     "data": {
      "image/png": "[encoded data removed]",
      "text/plain": [
       "<matplotlib.figure.Figure at 0x7f41c4b99ba8>"
      ]
     },
     "metadata": {},
     "output_type": "display_data"
    }
   ],
   "source": [
    "# Rename for a nicer display\n",
    "df.loc[df.life_stage == 'None', 'life_stage'] = 'Unknown'\n",
    "\n",
    "sns.set(style=\"whitegrid\")\n",
    "\n",
    "# Set boxplot parameters and properties to my liking\n",
    "sns.factorplot(kind='box',        \n",
    "               y='rating_numerator',       \n",
    "               x='life_stage', \n",
    "               data=df[df['life_stage'] != 'Unknown'], \n",
    "               size=8,               \n",
    "               aspect=1,   \n",
    "               legend_out=True)\n",
    "\n",
    "# Save the figure for the reports\n",
    "plt.savefig('rating_per_dog_stage.jpg')\n"
   ]
  },
  {
   "cell_type": "markdown",
   "metadata": {},
   "source": [
    "#### Observation\n",
    "\n",
    "**Pupper** got the lowest rating compare to the others single stage and also have some outliers. \n",
    "**Puppo** performs slightly better than **floofer** and **doggo**. Data for those three are a bit skewed but this won't change the conclusion.\n",
    "\n",
    "Since there's only one of each, the mixed stages **doggo.floofer** and **doggo,puppo** are not representative (about **doggo,puppo** we can consider the single score to be in the range of **Puppo**, thus confirming our observation about **Puppo** performing slightly better). **dogoo,pupper** performs realtively the same than **Pupper** (lowest rating compare to the others single stage)."
   ]
  },
  {
   "cell_type": "markdown",
   "metadata": {},
   "source": [
    "#### Visualization #2: Accuracy of the breed"
   ]
  },
  {
   "cell_type": "code",
   "execution_count": 32,
   "metadata": {},
   "outputs": [
    {
     "data": {
      "text/html": [
       "<div>\n",
       "<style scoped>\n",
       "    .dataframe tbody tr th:only-of-type {\n",
       "        vertical-align: middle;\n",
       "    }\n",
       "\n",
       "    .dataframe tbody tr th {\n",
       "        vertical-align: top;\n",
       "    }\n",
       "\n",
       "    .dataframe thead th {\n",
       "        text-align: right;\n",
       "    }\n",
       "</style>\n",
       "<table border=\"1\" class=\"dataframe\">\n",
       "  <thead>\n",
       "    <tr style=\"text-align: right;\">\n",
       "      <th></th>\n",
       "      <th>algorithm</th>\n",
       "      <th>confidence_interval</th>\n",
       "      <th>valid</th>\n",
       "    </tr>\n",
       "  </thead>\n",
       "  <tbody>\n",
       "    <tr>\n",
       "      <th>0</th>\n",
       "      <td>p1</td>\n",
       "      <td>0.999091</td>\n",
       "      <td>True</td>\n",
       "    </tr>\n",
       "    <tr>\n",
       "      <th>1</th>\n",
       "      <td>p1</td>\n",
       "      <td>0.989154</td>\n",
       "      <td>False</td>\n",
       "    </tr>\n",
       "    <tr>\n",
       "      <th>2</th>\n",
       "      <td>p1</td>\n",
       "      <td>0.980815</td>\n",
       "      <td>False</td>\n",
       "    </tr>\n",
       "    <tr>\n",
       "      <th>3</th>\n",
       "      <td>p1</td>\n",
       "      <td>0.825670</td>\n",
       "      <td>True</td>\n",
       "    </tr>\n",
       "    <tr>\n",
       "      <th>4</th>\n",
       "      <td>p1</td>\n",
       "      <td>0.676376</td>\n",
       "      <td>True</td>\n",
       "    </tr>\n",
       "  </tbody>\n",
       "</table>\n",
       "</div>"
      ],
      "text/plain": [
       "  algorithm  confidence_interval  valid\n",
       "0        p1             0.999091   True\n",
       "1        p1             0.989154  False\n",
       "2        p1             0.980815  False\n",
       "3        p1             0.825670   True\n",
       "4        p1             0.676376   True"
      ]
     },
     "execution_count": 32,
     "metadata": {},
     "output_type": "execute_result"
    }
   ],
   "source": [
    "df_prediction = df.iloc[:,14:23]\n",
    "\n",
    "# P1\n",
    "df_p1 = pd.melt(df_prediction, value_vars=['p1_conf'],\n",
    "          var_name='algorithm', value_name='confidence_interval')\n",
    "df_p1['valid'] = df_prediction['p1_dog']\n",
    "\n",
    "# P2\n",
    "df_p2 = pd.melt(df_prediction, value_vars=['p2_conf'],\n",
    "          var_name='algorithm', value_name='confidence_interval')\n",
    "df_p2['valid'] = df_prediction['p2_dog']\n",
    "\n",
    "# P3\n",
    "df_p3 = pd.melt(df_prediction, value_vars=['p3_conf'],\n",
    "          var_name='algorithm', value_name='confidence_interval')\n",
    "df_p3['valid'] = df_prediction['p3_dog']\n",
    "\n",
    "df_prediction_melt = pd.concat([df_p1, df_p2, df_p3], ignore_index= True)\n",
    "df_prediction_melt['algorithm'] = df_prediction_melt['algorithm'].str[:2]\n",
    "df_prediction_melt.head()\n"
   ]
  },
  {
   "cell_type": "code",
   "execution_count": 33,
   "metadata": {},
   "outputs": [
    {
     "data": {
      "image/png": "[encoded data removed]",
      "text/plain": [
       "<matplotlib.figure.Figure at 0x7f41c49d6dd8>"
      ]
     },
     "metadata": {},
     "output_type": "display_data"
    }
   ],
   "source": [
    "df_plot = df_prediction_melt.groupby(['algorithm','valid']).size().reset_index().pivot(columns='valid', index='algorithm', values=0)\n",
    "df_plot.plot(kind='bar',stacked=True, figsize=(15,8), title='Outcome validity per algorithm')\n",
    "\n",
    "# Save the figure for the reports\n",
    "plt.savefig('algorithms_outcome.jpg')\n"
   ]
  },
  {
   "cell_type": "code",
   "execution_count": 34,
   "metadata": {},
   "outputs": [
    {
     "data": {
      "image/png": "[encoded data removed]",
      "text/plain": [
       "<matplotlib.figure.Figure at 0x7f41c4efa780>"
      ]
     },
     "metadata": {},
     "output_type": "display_data"
    }
   ],
   "source": [
    "# Set boxplot parameters and properties to my liking\n",
    "#sns.boxplot(x=\"algorithm\", y=\"confidence_interval\", hue=\"valid\", data=df_prediction_melt, palette=\"bright\").set_title('Success Rates of Algorithms', size= 1)\n",
    "\n",
    "\n",
    "#plt.figure(figsize=(5, 8))\n",
    "\n",
    "sns.factorplot(kind='box',     \n",
    "               y='confidence_interval',       \n",
    "               x='algorithm', \n",
    "               hue='valid',\n",
    "               data=df_prediction_melt, \n",
    "#               data=df, \n",
    "               size=8,               \n",
    "               aspect=1,   \n",
    "               legend_out=True)\n",
    "\n",
    "# Save the figure for the reports\n",
    "plt.savefig('algorithms_confidence.jpg')\n"
   ]
  },
  {
   "cell_type": "code",
   "execution_count": 35,
   "metadata": {},
   "outputs": [
    {
     "data": {
      "text/plain": [
       "1438    https://pbs.twimg.com/media/CmgBZ7kWcAAlzFD.jpg\n",
       "660     https://pbs.twimg.com/media/CU9P717W4AAOlKx.jpg\n",
       "1612    https://pbs.twimg.com/media/CiWWhVNUYAAab_r.jpg\n",
       "Name: jpg_url, dtype: object"
      ]
     },
     "execution_count": 35,
     "metadata": {},
     "output_type": "execute_result"
    }
   ],
   "source": [
    "df.sort_values(by = 'rating_numerator', ascending = False).head(3).jpg_url"
   ]
  },
  {
   "cell_type": "markdown",
   "metadata": {},
   "source": [
    "Image of the three first dogs:\n",
    "![first](https://pbs.twimg.com/media/CmgBZ7kWcAAlzFD.jpg)\n",
    "![first](https://pbs.twimg.com/media/CU9P717W4AAOlKx.jpg)\n",
    "![first](https://pbs.twimg.com/media/CiWWhVNUYAAab_r.jpg)"
   ]
  },
  {
   "cell_type": "markdown",
   "metadata": {},
   "source": [
    "##### Observation:\n",
    "\n",
    "From the validity of the outcome and the distribution of confidence interval of each prediction algorithm we remark:\n",
    "\n",
    "* All the algorithm perform more or less the same with a third of the result caming out false.\n",
    "* Confidence interval of P1 is definitly higher than those of P2 and P3.\n",
    "\n",
    "By visual observation, we also see that for the same picture the three algorithm may end up with a different prediction. Thus, we could rely on P1 outcome to draw conclusion from the breed variable.\n",
    "\n",
    "\n",
    "Now by just looking to the picture, we can figure out the complexities the arlgoryhtms are facing so increasing their accuracy might be difficult.\n",
    "\n",
    "As of insight#1, we will stick to **Clumber** and **Terrier** being the breeds which get the highest median rating."
   ]
  },
  {
   "cell_type": "code",
   "execution_count": null,
   "metadata": {},
   "outputs": [],
   "source": []
  }
 ],
 "metadata": {
  "kernelspec": {
   "display_name": "Python 3",
   "language": "python",
   "name": "python3"
  },
  "language_info": {
   "codemirror_mode": {
    "name": "ipython",
    "version": 3
   },
   "file_extension": ".py",
   "mimetype": "text/x-python",
   "name": "python",
   "nbconvert_exporter": "python",
   "pygments_lexer": "ipython3",
   "version": "3.6.3"
  }
 },
 "nbformat": 4,
 "nbformat_minor": 2
}
