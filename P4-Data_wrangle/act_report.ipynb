{
 "cells": [
  {
   "cell_type": "markdown",
   "metadata": {},
   "source": [
    "# Analyse and visualize data"
   ]
  },
  {
   "cell_type": "markdown",
   "metadata": {},
   "source": [
    "## Analyze\n",
    "### Insight #1: Which dog breed get the highest rating?"
   ]
  },
  {
   "cell_type": "markdown",
   "metadata": {},
   "source": [
    "**Terrrier** and **Great Pyrenees** are the breeds getting the highest median rating."
   ]
  },
  {
   "cell_type": "markdown",
   "metadata": {},
   "source": [
    "However when giving a look to the five first dogs getting the highest rating, we see that all the three algotrithms failed to predict the race:\n",
    "\n",
    "* For the three first dog prediction result came out to be False)\n",
    "* For the fourth dog P1 predicts a labrador, P2 predicts a Chihuahua and P3 predicts American Stafforshire Terrier. But the confidence interval of P1 is better by a factor 4 so we would favor P1 in that case.\n",
    "\n",
    "Investigating more on outcome and confidence interval should help to decide which algorithm to trust."
   ]
  },
  {
   "cell_type": "markdown",
   "metadata": {},
   "source": [
    "### Insight #2: Which dog stage get the highest rating?"
   ]
  },
  {
   "cell_type": "markdown",
   "metadata": {},
   "source": [
    "The mixed stage **Doggo,Puppo** is getting the highest median rating."
   ]
  },
  {
   "cell_type": "markdown",
   "metadata": {},
   "source": [
    "### Insight #3: what's the correlation between favorites, retweet and rating?"
   ]
  },
  {
   "cell_type": "markdown",
   "metadata": {},
   "source": [
    "Correlation heatmap between **Favorite** **Retweet** and **Rating**\n",
    " ![](favorite_vs_retweet_vs_rating.jpg)\n",
    "\n",
    "we see that there's a strong positive correlation between **Favorite** and **Retweet** but **Rating** is not influence by any other 'count' variable"
   ]
  },
  {
   "cell_type": "markdown",
   "metadata": {},
   "source": [
    "## Visualization"
   ]
  },
  {
   "cell_type": "markdown",
   "metadata": {},
   "source": [
    "### Visualization #1: Rating per dog stage."
   ]
  },
  {
   "cell_type": "markdown",
   "metadata": {},
   "source": [
    "\n",
    "![](rating_per_dog_stage.jpg)\n",
    "\n",
    "**Pupper** got the lowest rating compare to the others single stage and also have some outliers. \n",
    "**Puppo** performs slightly better than **floofer** and **doggo**. Data for those three are a bit skewed but this won't change the conclusion.\n",
    "\n",
    "Since there's only one of each, the mixed stages **doggo.floofer** and **doggo,puppo** are not representative (about **doggo,puppo** we can consider the single score to be in the range of **Puppo**, thus confirming our observation about **Puppo** performing slightly better). **dogoo,pupper** performs realtively the same than **Pupper** (lowest rating compare to the others single stage)."
   ]
  },
  {
   "cell_type": "markdown",
   "metadata": {},
   "source": [
    "### Visualization #2: Accuracy of the breed prediction"
   ]
  },
  {
   "cell_type": "markdown",
   "metadata": {},
   "source": [
    "![](algorithms_outcome.jpg)\n",
    "![](algorithms_confidence.jpg)\n",
    "\n",
    "From the validity of the outcome and the distribution of confidence interval of each prediction algorithm we remark:\n",
    "\n",
    "* All the algorithm perform more or less the same with a third of the result caming out false.\n",
    "* Confidence interval of P1 is definitly higher than those of P2 and P3.\n",
    "\n",
    "A previous observation already shows that for the same picture the three algorithm may end up with a different prediction. Now thanks to visual we confidently on alporithm P1 to draw conclusion from the breed variable.\n",
    "So, as of insight#1, we stick to **Terrier** and **Great Pyrenees** being the breeds which get the highest median rating.\n",
    "\n",
    "\n",
    "\n",
    "Now by just looking to the pictures of the three first ranking picture, we can figure out the complexities the arlgoryhtms are facing so increasing their accuracy might be difficult.\n",
    "\n",
    "Image of the three first dogs:\n",
    "\n",
    "![](https://pbs.twimg.com/media/CmgBZ7kWcAAlzFD.jpg)\n",
    "![](https://pbs.twimg.com/media/CU9P717W4AAOlKx.jpg)\n",
    "![](https://pbs.twimg.com/media/CiWWhVNUYAAab_r.jpg)\n"
   ]
  },
  {
   "cell_type": "code",
   "execution_count": null,
   "metadata": {},
   "outputs": [],
   "source": []
  }
 ],
 "metadata": {
  "kernelspec": {
   "display_name": "Python 3",
   "language": "python",
   "name": "python3"
  },
  "language_info": {
   "codemirror_mode": {
    "name": "ipython",
    "version": 3
   },
   "file_extension": ".py",
   "mimetype": "text/x-python",
   "name": "python",
   "nbconvert_exporter": "python",
   "pygments_lexer": "ipython3",
   "version": "3.6.3"
  }
 },
 "nbformat": 4,
 "nbformat_minor": 2
}
